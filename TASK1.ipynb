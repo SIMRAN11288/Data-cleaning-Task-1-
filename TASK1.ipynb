{
 "cells": [
  {
   "cell_type": "code",
   "execution_count": 115,
   "metadata": {},
   "outputs": [],
   "source": [
    "import pandas as pd\n",
    "import numpy as np"
   ]
  },
  {
   "cell_type": "markdown",
   "metadata": {},
   "source": [
    "Here, I have created on my own data.\n",
    "To convert a downloaded data into CSV format the syntax is ---\n",
    "data,to_csv('filename_to_be_converted',index=False) "
   ]
  },
  {
   "cell_type": "code",
   "execution_count": 116,
   "metadata": {},
   "outputs": [
    {
     "name": "stdout",
     "output_type": "stream",
     "text": [
      "    ID  Area (sqft)  Bedrooms  Bathrooms  Rent ($)      Furnishing  Location  \\\n",
      "0  101       1200.0         2        1.0    1500.0       Furnished  Downtown   \n",
      "1  102        800.0         1        NaN    1100.0     Unfurnished   Suburbs   \n",
      "2  103          NaN         3        2.0       NaN  Semi-Furnished    Uptown   \n",
      "3  104       1500.0         3        NaN    1800.0     Unfurnished  Downtown   \n",
      "4  105        650.0         1        1.0     900.0             NaN   Suburbs   \n",
      "5  106       2200.0         4        3.0    3500.0       Furnished    Uptown   \n",
      "6  107       5000.0         5        4.0    8500.0       Furnished  Downtown   \n",
      "7  108        700.0         1        1.0       NaN     Unfurnished   Suburbs   \n",
      "\n",
      "    Floor  Parking Pet-Friendly Balcony  Nearby School Distance (km)  \n",
      "0     3rd        1          Yes     Yes                          0.5  \n",
      "1     2nd        0           No      No                          1.2  \n",
      "2  Ground        2          Yes     Yes                          2.5  \n",
      "3     5th        2           No     Yes                          NaN  \n",
      "4     1st        0           No      No                          0.8  \n",
      "5     8th        2          Yes     Yes                          3.0  \n",
      "6    10th        3           No     Yes                          0.3  \n",
      "7     2nd        0           No      No                          1.0  \n"
     ]
    }
   ],
   "source": [
    "dat={'ID': [101, 102, 103, 104, 105, 106, 107, 108],\n",
    "    'Area (sqft)': [1200, 800, np.nan, 1500, 650, 2200, 5000, 700],\n",
    "    'Bedrooms': [2, 1, 3, 3, 1, 4, 5, 1],\n",
    "    'Bathrooms': [1, np.nan, 2, np.nan, 1, 3, 4, 1],\n",
    "    'Rent ($)': [1500, 1100, np.nan, 1800, 900, 3500, 8500, np.nan],\n",
    "    'Furnishing': ['Furnished', 'Unfurnished', 'Semi-Furnished', 'Unfurnished', np.nan, 'Furnished', 'Furnished', 'Unfurnished'],\n",
    "    'Location': ['Downtown', 'Suburbs', 'Uptown', 'Downtown', 'Suburbs', 'Uptown', 'Downtown', 'Suburbs'],\n",
    "    'Floor': ['3rd', '2nd', 'Ground', '5th', '1st', '8th', '10th', '2nd'],\n",
    "    'Parking': [1, 0, 2, 2, 0, 2, 3, 0],\n",
    "    'Pet-Friendly': ['Yes', 'No', 'Yes', 'No', 'No', 'Yes', 'No', 'No'],\n",
    "    'Balcony': ['Yes', 'No', 'Yes', 'Yes', 'No', 'Yes', 'Yes', 'No'],\n",
    "    'Nearby School Distance (km)': [0.5, 1.2, 2.5, np.nan, 0.8, 3.0, 0.3, 1.0]\n",
    "}\n",
    "data=pd.DataFrame(dat)\n",
    "print(data)"
   ]
  },
  {
   "cell_type": "markdown",
   "metadata": {},
   "source": [
    "FILLING NAN VALUES"
   ]
  },
  {
   "cell_type": "code",
   "execution_count": 117,
   "metadata": {},
   "outputs": [
    {
     "name": "stdout",
     "output_type": "stream",
     "text": [
      "ID                             0\n",
      "Area (sqft)                    1\n",
      "Bedrooms                       0\n",
      "Bathrooms                      2\n",
      "Rent ($)                       2\n",
      "Furnishing                     1\n",
      "Location                       0\n",
      "Floor                          0\n",
      "Parking                        0\n",
      "Pet-Friendly                   0\n",
      "Balcony                        0\n",
      "Nearby School Distance (km)    1\n",
      "dtype: int64\n"
     ]
    }
   ],
   "source": [
    "print(data.isna().sum())"
   ]
  },
  {
   "cell_type": "code",
   "execution_count": 118,
   "metadata": {},
   "outputs": [],
   "source": [
    "\n",
    "# Fill NaNs in all columns except 'Rent' with their mode\n",
    "columns_to_fill = data.columns.difference(['Rent ($)'])  # Exclude 'Rent'\n",
    "data[columns_to_fill] = data[columns_to_fill].fillna(data[columns_to_fill].mode().iloc[0])\n"
   ]
  },
  {
   "cell_type": "code",
   "execution_count": null,
   "metadata": {},
   "outputs": [],
   "source": [
    "print(data['Rent ($)'].isna().sum())"
   ]
  },
  {
   "cell_type": "code",
   "execution_count": null,
   "metadata": {},
   "outputs": [],
   "source": [
    "from sklearn.linear_model import LinearRegression\n",
    "train_data=data[data['Rent ($)'].notnull()]                 #data imputation\n",
    "test_data=data[data['Rent ($)'].isnull()]       \n",
    "features=['Bedrooms','Bathrooms','Furnishing']\n",
    "x_train=train_data[features]\n",
    "y_train=train_data['Rent ($)']\n",
    "model=LinearRegression()\n",
    "model.fit(x_train,y_train)\n",
    "x_test=test_data[features]\n",
    "predict_val=model.predict(x_test)\n",
    "data.loc[data['Rent ($)'].isnull(),'Rent ($)']=predict_val"
   ]
  },
  {
   "cell_type": "markdown",
   "metadata": {},
   "source": [
    "Encoding"
   ]
  },
  {
   "cell_type": "code",
   "execution_count": 119,
   "metadata": {},
   "outputs": [],
   "source": [
    "from sklearn.preprocessing import OrdinalEncoder\n",
    "encoder=OrdinalEncoder(categories=[['Furnished','Semi-Furnished','Unfurnished']])\n",
    "data[['Furnishing']]=encoder.fit_transform(data[['Furnishing']])"
   ]
  },
  {
   "cell_type": "code",
   "execution_count": 121,
   "metadata": {},
   "outputs": [],
   "source": [
    "from sklearn.preprocessing import LabelEncoder\n",
    "le=LabelEncoder()\n",
    "colums=['Floor','Pet-Friendly', 'Balcony']\n",
    "for col in colums:\n",
    "    data[col]=le.fit_transform(data[col])"
   ]
  },
  {
   "cell_type": "markdown",
   "metadata": {},
   "source": [
    "SCALING"
   ]
  },
  {
   "cell_type": "code",
   "execution_count": 124,
   "metadata": {},
   "outputs": [
    {
     "name": "stdout",
     "output_type": "stream",
     "text": [
      "0   -0.067111\n",
      "1   -0.246073\n",
      "2    0.758944\n",
      "3    0.067111\n",
      "4   -0.335554\n",
      "5    0.827700\n",
      "6    3.064726\n",
      "7   -0.216465\n",
      "Name: Rent_scale, dtype: float64\n"
     ]
    }
   ],
   "source": [
    "from sklearn.preprocessing import RobustScaler  #SCALING RENT AMOUNTS\n",
    "scale=RobustScaler()\n",
    "data['Rent_scale']=scale.fit_transform(data[['Rent ($)']])\n",
    "print(data['Rent_scale'])"
   ]
  },
  {
   "cell_type": "code",
   "execution_count": 125,
   "metadata": {},
   "outputs": [
    {
     "name": "stdout",
     "output_type": "stream",
     "text": [
      "0   -0.067111\n",
      "1   -0.246073\n",
      "2    0.758944\n",
      "3    0.067111\n",
      "4   -0.335554\n",
      "5    0.827700\n",
      "6    3.064726\n",
      "7   -0.216465\n",
      "Name: Rent_scale, dtype: float64\n"
     ]
    }
   ],
   "source": [
    "print(data['Rent_scale'])"
   ]
  },
  {
   "cell_type": "code",
   "execution_count": 126,
   "metadata": {},
   "outputs": [
    {
     "name": "stdout",
     "output_type": "stream",
     "text": [
      "   Area (sqft)  Nearby School Distance (km)\n",
      "0     0.126437                     0.074074\n",
      "1     0.034483                     0.333333\n",
      "2     0.000000                     0.814815\n",
      "3     0.195402                     0.000000\n",
      "4     0.000000                     0.185185\n",
      "5     0.356322                     1.000000\n",
      "6     1.000000                     0.000000\n",
      "7     0.011494                     0.259259\n"
     ]
    }
   ],
   "source": [
    "from sklearn.preprocessing import MinMaxScaler #scaling\n",
    "scaler=MinMaxScaler()\n",
    "sca_col=['Area (sqft)','Nearby School Distance (km)']\n",
    "normali=pd.DataFrame(scaler.fit_transform(data[sca_col]),columns=sca_col)\n",
    "print(normali)"
   ]
  },
  {
   "cell_type": "code",
   "execution_count": 127,
   "metadata": {},
   "outputs": [
    {
     "name": "stdout",
     "output_type": "stream",
     "text": [
      "0    0\n",
      "1    0\n",
      "2    1\n",
      "3    1\n",
      "4    0\n",
      "5    1\n",
      "6    1\n",
      "7    0\n",
      "Name: Parking_available, dtype: int32\n"
     ]
    }
   ],
   "source": [
    "data['Parking_available']=(data['Parking']>1).astype(int)\n",
    "print(data['Parking_available'])"
   ]
  },
  {
   "cell_type": "markdown",
   "metadata": {},
   "source": [
    "VISUALISING AND REMOVING OUTLIERS"
   ]
  },
  {
   "cell_type": "code",
   "execution_count": 128,
   "metadata": {},
   "outputs": [
    {
     "data": {
      "image/png": "[encoded data removed]",
      "text/plain": [
       "<Figure size 640x480 with 1 Axes>"
      ]
     },
     "metadata": {},
     "output_type": "display_data"
    }
   ],
   "source": [
    "import seaborn as sns   #VISUALISING OUTLIERS\n",
    "import matplotlib.pyplot as plt\n",
    "\n",
    "sns.boxplot(x=data['Area (sqft)'])\n",
    "plt.title('Boxplot of Area (sqft)')\n",
    "plt.show()\n"
   ]
  },
  {
   "cell_type": "code",
   "execution_count": 129,
   "metadata": {},
   "outputs": [],
   "source": [
    "Q1 = data['Area (sqft)'].quantile(0.25)\n",
    "Q3 = data['Area (sqft)'].quantile(0.75)     #REMOVING THE OUTLIERS\n",
    "IQR = Q3 - Q1\n",
    "lower_bound = Q1 - 1.5 * IQR\n",
    "upper_bound = Q3 + 1.5 * IQR\n",
    "\n",
    "# Filter data to remove outliers\n",
    "data = data[(data['Area (sqft)'] >= lower_bound) & (data['Area (sqft)'] <= upper_bound)]\n"
   ]
  }
 ],
 "metadata": {
  "kernelspec": {
   "display_name": "myenv",
   "language": "python",
   "name": "python3"
  },
  "language_info": {
   "codemirror_mode": {
    "name": "ipython",
    "version": 3
   },
   "file_extension": ".py",
   "mimetype": "text/x-python",
   "name": "python",
   "nbconvert_exporter": "python",
   "pygments_lexer": "ipython3",
   "version": "3.11.9"
  }
 },
 "nbformat": 4,
 "nbformat_minor": 2
}
